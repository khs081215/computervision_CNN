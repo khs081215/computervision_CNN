{
  "cells": [
    {
      "cell_type": "markdown",
      "metadata": {
        "id": "PI18D9Fpg0OJ"
      },
      "source": []
    },
    {
      "cell_type": "code",
      "execution_count": null,
      "metadata": {
        "colab": {
          "base_uri": "https://localhost:8080/"
        },
        "id": "RIMRDOuxgLRU",
        "outputId": "2d03a164-a5e9-44d3-8455-bedd16c1f4f4"
      },
      "outputs": [
        {
          "name": "stdout",
          "output_type": "stream",
          "text": [
            "processor\t: 0\n",
            "vendor_id\t: GenuineIntel\n",
            "cpu family\t: 6\n",
            "model\t\t: 63\n",
            "model name\t: Intel(R) Xeon(R) CPU @ 2.30GHz\n",
            "stepping\t: 0\n",
            "microcode\t: 0xffffffff\n",
            "cpu MHz\t\t: 2299.998\n",
            "cache size\t: 46080 KB\n",
            "physical id\t: 0\n"
          ]
        }
      ],
      "source": [
        "!head /proc/cpuinfo"
      ]
    },
    {
      "cell_type": "code",
      "execution_count": null,
      "metadata": {
        "colab": {
          "base_uri": "https://localhost:8080/"
        },
        "id": "WPfngMnGgiIv",
        "outputId": "c8428c93-2051-4ec9-f68f-4dc57aa2c503"
      },
      "outputs": [
        {
          "name": "stdout",
          "output_type": "stream",
          "text": [
            "Sat Jun 22 20:10:37 2024       \n",
            "+---------------------------------------------------------------------------------------+\n",
            "| NVIDIA-SMI 535.104.05             Driver Version: 535.104.05   CUDA Version: 12.2     |\n",
            "|-----------------------------------------+----------------------+----------------------+\n",
            "| GPU  Name                 Persistence-M | Bus-Id        Disp.A | Volatile Uncorr. ECC |\n",
            "| Fan  Temp   Perf          Pwr:Usage/Cap |         Memory-Usage | GPU-Util  Compute M. |\n",
            "|                                         |                      |               MIG M. |\n",
            "|=========================================+======================+======================|\n",
            "|   0  Tesla T4                       Off | 00000000:00:04.0 Off |                    0 |\n",
            "| N/A   45C    P8               9W /  70W |      0MiB / 15360MiB |      0%      Default |\n",
            "|                                         |                      |                  N/A |\n",
            "+-----------------------------------------+----------------------+----------------------+\n",
            "                                                                                         \n",
            "+---------------------------------------------------------------------------------------+\n",
            "| Processes:                                                                            |\n",
            "|  GPU   GI   CI        PID   Type   Process name                            GPU Memory |\n",
            "|        ID   ID                                                             Usage      |\n",
            "|=======================================================================================|\n",
            "|  No running processes found                                                           |\n",
            "+---------------------------------------------------------------------------------------+\n"
          ]
        }
      ],
      "source": [
        "!nvidia-smi"
      ]
    },
    {
      "cell_type": "code",
      "execution_count": null,
      "metadata": {
        "colab": {
          "base_uri": "https://localhost:8080/"
        },
        "id": "Vjjy6m_9E2pP",
        "outputId": "4a6b8d4d-b1e0-440e-dd8d-d755f6468577"
      },
      "outputs": [],
      "source": [
        "!pip3 install torch"
      ]
    },
    {
      "cell_type": "code",
      "execution_count": null,
      "metadata": {
        "colab": {
          "base_uri": "https://localhost:8080/"
        },
        "id": "iMiAI9GVO8BZ",
        "outputId": "badc8701-46bf-46c8-d884-e776faa83d90"
      },
      "outputs": [],
      "source": [
        "!pip3 install torchvision"
      ]
    },
    {
      "cell_type": "code",
      "execution_count": null,
      "metadata": {
        "id": "WBD4IvqVO8ih"
      },
      "outputs": [],
      "source": [
        "import matplotlib.pyplot as plt\n",
        "import torch\n",
        "import torch.nn as nn\n",
        "from torchvision import datasets\n",
        "from torch.utils.data import DataLoader\n",
        "import torch.optim as optim\n",
        "import torchvision\n",
        "import numpy as np\n",
        "from torchvision import transforms\n",
        "import os"
      ]
    },
    {
      "cell_type": "code",
      "execution_count": null,
      "metadata": {
        "id": "dGuR2ulnPdkv"
      },
      "outputs": [],
      "source": [
        "USE_CUDA = torch.cuda.is_available()\n",
        "device = torch.device(\"cuda\" if USE_CUDA else \"cpu\")"
      ]
    },
    {
      "cell_type": "code",
      "execution_count": null,
      "metadata": {
        "colab": {
          "base_uri": "https://localhost:8080/"
        },
        "id": "FXN3cdpahaRq",
        "outputId": "d6e74081-0be6-46e7-98ba-13260894b1f5"
      },
      "outputs": [],
      "source": [
        "DOWNLOAD_ROOT = os.path.join(os.pardir,\"MNIST_data\")\n",
        "\n",
        "train1_dataset = datasets.MNIST(root=DOWNLOAD_ROOT,train=True,transform=transforms.Compose([transforms.Resize((32,32)),transforms.ToTensor()]),download=True)\n",
        "test1_dataset = datasets.MNIST(root=DOWNLOAD_ROOT,train=False,transform=transforms.Compose([transforms.Resize((32,32)),transforms.ToTensor()]),download=True)"
      ]
    },
    {
      "cell_type": "code",
      "execution_count": null,
      "metadata": {
        "colab": {
          "base_uri": "https://localhost:8080/"
        },
        "id": "1JHbjpxHnjhl",
        "outputId": "b4219bf0-56a8-459c-fb1c-1dbc648f8c36"
      },
      "outputs": [],
      "source": [
        "print(\"train data 개수 :\",train1_dataset.data.shape[0])\n",
        "print(\"test data 개수 :\",test1_dataset.data.shape[0])"
      ]
    },
    {
      "cell_type": "code",
      "execution_count": null,
      "metadata": {
        "id": "BoTvvLuarKke"
      },
      "outputs": [],
      "source": [
        "from sklearn.model_selection import train_test_split"
      ]
    },
    {
      "cell_type": "code",
      "execution_count": null,
      "metadata": {
        "id": "elPqHW3G9Ch4"
      },
      "outputs": [],
      "source": [
        "train_dataset=train1_dataset\n",
        "test_dataset=test1_dataset"
      ]
    },
    {
      "cell_type": "code",
      "execution_count": null,
      "metadata": {
        "id": "2H2_0jy6rURF"
      },
      "outputs": [],
      "source": [
        "split_ratio=0\n",
        "train_dataset,_=train_test_split(train1_dataset,test_size=1-split_ratio,random_state=7)\n",
        "test_dataset,_=train_test_split(test1_dataset,test_size=1-split_ratio,random_state=7)\n",
        "train_nosplit_dataset,_=train_test_split(train1_dataset,test_size=1,random_state=7)\n",
        "test_nosplit_dataset,_=train_test_split(test1_dataset,test_size=1,random_state=7)"
      ]
    },
    {
      "cell_type": "code",
      "execution_count": null,
      "metadata": {
        "colab": {
          "base_uri": "https://localhost:8080/"
        },
        "id": "Qe0U5NMlsUlJ",
        "outputId": "e19c3270-a061-41c7-a9ba-97b9a3a8dd18"
      },
      "outputs": [],
      "source": [
        "print(\"train data 개수 :\",len(train_dataset))\n",
        "print(\"test data 개수 :\",len(test_dataset))\n",
        "print(\"nosplit train data 개수 :\",len(train_nosplit_dataset))\n",
        "print(\"nosplit test data 개수 :\",len(test_nosplit_dataset))"
      ]
    },
    {
      "cell_type": "code",
      "execution_count": null,
      "metadata": {
        "id": "IldctqSQV7Lr"
      },
      "outputs": [],
      "source": [
        "class LeNet_5(nn.Module):\n",
        "    def __init__(self):\n",
        "        super(LeNet_5,self).__init__()\n",
        "        self.c1 = nn.Conv2d(1,6,5)\n",
        "        self.avgpool1 = nn.AvgPool2d(2)\n",
        "        self.c2 = nn.Conv2d(6,16,5)\n",
        "        self.avgpool2 = nn.AvgPool2d(2)\n",
        "        self.c3 = nn.Conv2d(16,120,5)\n",
        "        self.n1 = nn.Linear(120,84)\n",
        "        self.sig=nn.Sigmoid()\n",
        "        self.n2 = nn.Linear(84,10)\n",
        "\n",
        "    def forward(self,x):\n",
        "        x = self.c1(x)\n",
        "        x = self.avgpool1(x)\n",
        "        x = self.c2(x)\n",
        "        x = self.avgpool2(x)\n",
        "        x = self.c3(x)\n",
        "        x = torch.flatten(x,1)\n",
        "        x = self.n1(x)\n",
        "        x = self.sig(x)\n",
        "        x = self.n2(x)\n",
        "        return x"
      ]
    },
    {
      "cell_type": "code",
      "execution_count": null,
      "metadata": {
        "id": "JKjCeGMG_huF"
      },
      "outputs": [],
      "source": [
        "class LeNet_improving(nn.Module):\n",
        "    def __init__(self):\n",
        "        super(LeNet_improving,self).__init__()\n",
        "        self.c1 = nn.Conv2d(1,6,5)\n",
        "        self.maxpool1 = nn.MaxPool2d(2)\n",
        "        self.c2 = nn.Conv2d(6,16,5)\n",
        "        self.maxpool2 = nn.MaxPool2d(2)\n",
        "        self.c3 = nn.Conv2d(16,120,5)\n",
        "        self.n1 = nn.Linear(120,84)\n",
        "        self.relu=nn.ReLU()\n",
        "        self.n2 = nn.Linear(84,10)\n",
        "\n",
        "    def forward(self,x):\n",
        "        x = self.c1(x)\n",
        "        x = self.relu(x)\n",
        "        x = self.maxpool1(x)\n",
        "        x = self.c2(x)\n",
        "        x = self.relu(x)\n",
        "        x = self.maxpool2(x)\n",
        "        x = self.c3(x)\n",
        "        x = self.relu(x)\n",
        "        x = torch.flatten(x,1)\n",
        "        x = self.n1(x)\n",
        "        x = self.relu(x)\n",
        "        x = self.n2(x)\n",
        "        return x"
      ]
    },
    {
      "cell_type": "code",
      "execution_count": null,
      "metadata": {
        "id": "BH6YmPz6V5SL"
      },
      "outputs": [],
      "source": [
        "#default\n",
        "LOAD = True\n",
        "SEED=7\n",
        "torch.manual_seed(SEED)\n",
        "if device=='cuda':\n",
        "  torch.cuda.manual_seed_all(SEED)\n",
        "BATCH_SIZE = 128\n",
        "EPOCHS = 80\n",
        "LEARNING_RATE = 0.1\n",
        "loss_function = nn.CrossEntropyLoss()\n",
        "model = LeNet_5()\n",
        "model.zero_grad()\n",
        "optimizer = optim.SGD(model.parameters(),lr=LEARNING_RATE)\n",
        "\n",
        "\n",
        "loss_list = []\n",
        "accuracy_list = []\n",
        "epoch = 0"
      ]
    },
    {
      "cell_type": "code",
      "execution_count": null,
      "metadata": {
        "id": "pvrMONUJvvwU"
      },
      "outputs": [],
      "source": [
        "train_dataset_loader = DataLoader(train_dataset, batch_size=BATCH_SIZE, shuffle=True,drop_last=True)\n",
        "test_dataset_loader = DataLoader(test_dataset, batch_size=BATCH_SIZE, shuffle=True,drop_last=True)\n",
        "train_nosplit_dataset_loader = DataLoader(train_nosplit_dataset, batch_size=BATCH_SIZE, shuffle=True,drop_last=True)\n",
        "test_nosplit_dataset_loader = DataLoader(test_nosplit_dataset, batch_size=BATCH_SIZE, shuffle=True,drop_last=True)"
      ]
    },
    {
      "cell_type": "code",
      "execution_count": null,
      "metadata": {
        "colab": {
          "base_uri": "https://localhost:8080/"
        },
        "id": "1O1edZJfvzBI",
        "outputId": "b20351b5-417b-46d4-dc47-e5678bb58026"
      },
      "outputs": [],
      "source": [
        "TOTAL_BATCH = len(train_dataset_loader)\n",
        "print(TOTAL_BATCH)"
      ]
    },
    {
      "cell_type": "code",
      "execution_count": null,
      "metadata": {
        "id": "FvCH-OPJ1G01"
      },
      "outputs": [],
      "source": [
        "PATH = os.path.join('/content',\"pretrained_model.pt\")\n",
        "SAVE_INTERVAL = 5"
      ]
    },
    {
      "cell_type": "code",
      "execution_count": null,
      "metadata": {
        "colab": {
          "base_uri": "https://localhost:8080/"
        },
        "id": "EK_FV-RAXRx_",
        "outputId": "79307c15-f8be-4946-8934-dd444d0e3120"
      },
      "outputs": [],
      "source": [
        "while epoch < EPOCHS:\n",
        "    cost = 0\n",
        "    for image, label in train_dataset_loader:\n",
        "        optimizer.zero_grad()\n",
        "        predicted = model.forward(image)\n",
        "        loss = loss_function(predicted,label)\n",
        "        loss.backward()\n",
        "        optimizer.step()\n",
        "        cost+=loss\n",
        "    with torch.no_grad():\n",
        "        total = 0\n",
        "        correct = 0\n",
        "        for image, label in test_dataset_loader:\n",
        "            out = model(image)\n",
        "            _,predict = torch.max(out.data, 1)\n",
        "            total += label.size(0)\n",
        "            correct += (predict==label).sum()\n",
        "    average_cost = cost/TOTAL_BATCH\n",
        "    accuracy = 100*correct/total\n",
        "    loss_list.append(average_cost.detach().numpy())\n",
        "    accuracy_list.append(accuracy)\n",
        "    epoch+=1\n",
        "    print(\"epoch : {} | loss : {:.6f}\" .format(epoch, average_cost))\n",
        "    print(\"Accuracy : {:.2f}\".format(accuracy))\n",
        "    print(\"---------------------\")\n",
        "    if epoch%5 ==0:\n",
        "        torch.save({\"epoch\":epoch,\"loss list\":loss_list,\"accuracy list\":accuracy_list,\"model\":model.state_dict(),\"optimizer\":optimizer.state_dict()},PATH)"
      ]
    },
    {
      "cell_type": "code",
      "execution_count": null,
      "metadata": {
        "id": "P62vPeXSD6bG"
      },
      "outputs": [],
      "source": [
        "#improving\n",
        "PATH = os.path.join('/content',\"pretrained_model2.pt\")\n",
        "LOAD = True\n",
        "BATCH_SIZE = 128\n",
        "EPOCHS = 80\n",
        "LEARNING_RATE = 0.1\n",
        "loss_function = nn.CrossEntropyLoss()\n",
        "model = LeNet_improving()\n",
        "model.zero_grad()\n",
        "optimizer = optim.SGD(model.parameters(),lr=LEARNING_RATE)\n",
        "\n",
        "\n",
        "loss_list2 = []\n",
        "accuracy_list2 = []\n",
        "epoch = 0"
      ]
    },
    {
      "cell_type": "code",
      "execution_count": null,
      "metadata": {
        "colab": {
          "base_uri": "https://localhost:8080/"
        },
        "id": "1WGPe-4bDjlQ",
        "outputId": "26fa315e-a4b1-45c3-ac52-f2532eb866b7"
      },
      "outputs": [],
      "source": [
        "while epoch < EPOCHS:\n",
        "    cost = 0\n",
        "    for image, label in train_dataset_loader:\n",
        "        optimizer.zero_grad()\n",
        "        predicted = model.forward(image)\n",
        "        loss = loss_function(predicted,label)\n",
        "        loss.backward()\n",
        "        optimizer.step()\n",
        "        cost+=loss\n",
        "    with torch.no_grad():\n",
        "        total = 0\n",
        "        correct = 0\n",
        "        for image, label in test_dataset_loader:\n",
        "            out = model(image)\n",
        "            _,predict = torch.max(out.data, 1)\n",
        "            total += label.size(0)\n",
        "            correct += (predict==label).sum()\n",
        "    average_cost = cost/TOTAL_BATCH\n",
        "    accuracy = 100*correct/total\n",
        "    loss_list2.append(average_cost.detach().numpy())\n",
        "    accuracy_list2.append(accuracy)\n",
        "    epoch+=1\n",
        "    print(\"epoch : {} | loss : {:.6f}\" .format(epoch, average_cost))\n",
        "    print(\"Accuracy : {:.2f}\".format(accuracy))\n",
        "    print(\"---------------------\")\n",
        "    if epoch%5 ==0:\n",
        "        torch.save({\"epoch\":epoch,\"loss list\":loss_list2,\"accuracy list\":accuracy_list2,\"model\":model.state_dict(),\"optimizer\":optimizer.state_dict()},PATH)"
      ]
    },
    {
      "cell_type": "code",
      "execution_count": null,
      "metadata": {
        "colab": {
          "base_uri": "https://localhost:8080/"
        },
        "id": "A0z3fSJMMXF6",
        "outputId": "3b25465f-00a4-4ae2-e16a-5bbeb3d23290"
      },
      "outputs": [
        {
          "name": "stdout",
          "output_type": "stream",
          "text": [
            "468\n"
          ]
        }
      ],
      "source": [
        "TOTAL_BATCH = len(train_nosplit_dataset_loader)\n",
        "print(TOTAL_BATCH)"
      ]
    },
    {
      "cell_type": "code",
      "execution_count": null,
      "metadata": {
        "id": "IGjgbTxiMAlV"
      },
      "outputs": [],
      "source": [
        "#learning late 0.001\n",
        "PATH = os.path.join('/content',\"pretrained_model3.pt\")\n",
        "LOAD = True\n",
        "BATCH_SIZE = 128\n",
        "EPOCHS = 80\n",
        "LEARNING_RATE = 0.0001\n",
        "loss_function = nn.CrossEntropyLoss()\n",
        "model = LeNet_5()\n",
        "model.zero_grad()\n",
        "optimizer = optim.SGD(model.parameters(),lr=LEARNING_RATE)\n",
        "\n",
        "\n",
        "loss_list3 = []\n",
        "accuracy_list3 = []\n",
        "epoch = 0"
      ]
    },
    {
      "cell_type": "code",
      "execution_count": null,
      "metadata": {
        "colab": {
          "base_uri": "https://localhost:8080/",
          "height": 424
        },
        "id": "t2085lnxMnlc",
        "outputId": "a5f5d03a-9f10-490d-87aa-24599d5d666d"
      },
      "outputs": [],
      "source": [
        "while epoch < EPOCHS:\n",
        "    cost = 0\n",
        "    for image, label in train_nosplit_dataset_loader:\n",
        "        optimizer.zero_grad()\n",
        "        predicted = model.forward(image)\n",
        "        loss = loss_function(predicted,label)\n",
        "        loss.backward()\n",
        "        optimizer.step()\n",
        "        cost+=loss\n",
        "    with torch.no_grad():\n",
        "        total = 0\n",
        "        correct = 0\n",
        "        for image, label in test_nosplit_dataset_loader:\n",
        "            out = model(image)\n",
        "            _,predict = torch.max(out.data, 1)\n",
        "            total += label.size(0)\n",
        "            correct += (predict==label).sum()\n",
        "    average_cost = cost/TOTAL_BATCH\n",
        "    accuracy = 100*correct/total\n",
        "    loss_list3.append(average_cost.detach().numpy())\n",
        "    accuracy_list3.append(accuracy)\n",
        "    epoch+=1\n",
        "    print(\"epoch : {} | loss : {:.6f}\" .format(epoch, average_cost))\n",
        "    print(\"Accuracy : {:.2f}\".format(accuracy))\n",
        "    print(\"---------------------\")\n",
        "    if epoch%5 ==0:\n",
        "        torch.save({\"epoch\":epoch,\"loss list\":loss_list3,\"accuracy list\":accuracy_list3,\"model\":model.state_dict(),\"optimizer\":optimizer.state_dict()},PATH)"
      ]
    },
    {
      "cell_type": "code",
      "execution_count": null,
      "metadata": {
        "id": "RQw24XFXM34N"
      },
      "outputs": [],
      "source": [
        "#nosplit, batch 256\n",
        "PATH = os.path.join('/content',\"pretrained_model4.pt\")\n",
        "LOAD = True\n",
        "BATCH_SIZE = 256\n",
        "EPOCHS = 80\n",
        "LEARNING_RATE = 0.01\n",
        "loss_function = nn.CrossEntropyLoss()\n",
        "model = LeNet_5()\n",
        "model.zero_grad()\n",
        "optimizer = optim.SGD(model.parameters(),lr=LEARNING_RATE)\n",
        "\n",
        "\n",
        "loss_list4 = []\n",
        "accuracy_list4 = []\n",
        "epoch = 0"
      ]
    },
    {
      "cell_type": "code",
      "execution_count": null,
      "metadata": {
        "colab": {
          "base_uri": "https://localhost:8080/",
          "height": 424
        },
        "id": "REKz3qaINizq",
        "outputId": "2ef629a7-f1f2-4173-83e1-052f1b1818b5"
      },
      "outputs": [],
      "source": [
        "while epoch < EPOCHS:\n",
        "    cost = 0\n",
        "    for image, label in train_nosplit_dataset_loader:\n",
        "        optimizer.zero_grad()\n",
        "        predicted = model.forward(image)\n",
        "        loss = loss_function(predicted,label)\n",
        "        loss.backward()\n",
        "        optimizer.step()\n",
        "        cost+=loss\n",
        "    with torch.no_grad():\n",
        "        total = 0\n",
        "        correct = 0\n",
        "        for image, label in test_nosplit_dataset_loader:\n",
        "            out = model(image)\n",
        "            _,predict = torch.max(out.data, 1)\n",
        "            total += label.size(0)\n",
        "            correct += (predict==label).sum()\n",
        "    average_cost = cost/TOTAL_BATCH\n",
        "    accuracy = 100*correct/total\n",
        "    loss_list4.append(average_cost.detach().numpy())\n",
        "    accuracy_list4.append(accuracy)\n",
        "    epoch+=1\n",
        "    print(\"epoch : {} | loss : {:.6f}\" .format(epoch, average_cost))\n",
        "    print(\"Accuracy : {:.2f}\".format(accuracy))\n",
        "    print(\"---------------------\")\n",
        "    if epoch%5 ==0:\n",
        "        torch.save({\"epoch\":epoch,\"loss list\":loss_list4,\"accuracy list\":accuracy_list4,\"model\":model.state_dict(),\"optimizer\":optimizer.state_dict()},PATH)"
      ]
    },
    {
      "cell_type": "code",
      "execution_count": null,
      "metadata": {
        "colab": {
          "base_uri": "https://localhost:8080/",
          "height": 370
        },
        "id": "Rbktq1Oot4g1",
        "outputId": "1b76fd9e-d4e7-4395-bb92-4e3bb46945da"
      },
      "outputs": [],
      "source": [
        "\n",
        "if LOAD:\n",
        "    check = torch.load(PATH)\n",
        "    model.load_state_dict(check[\"model\"])\n",
        "    epoch = check[\"epoch\"]\n",
        "    accuracy_list = check[\"accuracy list\"]\n",
        "    loss_list = check[\"loss list\"]\n",
        "    optimizer.load_state_dict(check[\"optimizer\"])"
      ]
    },
    {
      "cell_type": "code",
      "execution_count": null,
      "metadata": {
        "colab": {
          "base_uri": "https://localhost:8080/",
          "height": 465
        },
        "id": "fjljC753Yawy",
        "outputId": "a9d66cc3-9f0e-4e67-caa0-2b5300fd97c6"
      },
      "outputs": [],
      "source": [
        "plt.figure(figsize=(10,5))\n",
        "plt.subplot(1,2,1)\n",
        "plt.xlabel('Epoch')\n",
        "plt.ylabel('Loss')\n",
        "plt.plot(np.arange(0,EPOCHS),loss_list)\n",
        "plt.plot(np.arange(0,EPOCHS),loss_list2)\n",
        "plt.plot(np.arange(0,EPOCHS),loss_list3)\n",
        "plt.plot(np.arange(0,EPOCHS),loss_list4)\n",
        "plt.legend(['1','2','3','4'])\n",
        "plt.subplot(1,2,2)\n",
        "plt.xlabel('Epoch')\n",
        "plt.ylabel('Accuracy')\n",
        "plt.plot(np.arange(0,EPOCHS), accuracy_list)\n",
        "plt.plot(np.arange(0,EPOCHS), accuracy_list2)\n",
        "plt.plot(np.arange(0,EPOCHS), accuracy_list3)\n",
        "plt.plot(np.arange(0,EPOCHS), accuracy_list4)\n",
        "plt.legend(['1','2','3','4'])\n",
        "plt.show()"
      ]
    }
  ],
  "metadata": {
    "accelerator": "GPU",
    "colab": {
      "gpuType": "T4",
      "provenance": []
    },
    "kernelspec": {
      "display_name": "Python 3",
      "name": "python3"
    },
    "language_info": {
      "name": "python"
    }
  },
  "nbformat": 4,
  "nbformat_minor": 0
}
