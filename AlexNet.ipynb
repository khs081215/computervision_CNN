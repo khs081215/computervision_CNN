{
  "cells": [
    {
      "cell_type": "markdown",
      "metadata": {
        "id": "PI18D9Fpg0OJ"
      },
      "source": []
    },
    {
      "cell_type": "code",
      "execution_count": null,
      "metadata": {
        "colab": {
          "base_uri": "https://localhost:8080/"
        },
        "id": "RIMRDOuxgLRU",
        "outputId": "2d03a164-a5e9-44d3-8455-bedd16c1f4f4"
      },
      "outputs": [
        {
          "name": "stdout",
          "output_type": "stream",
          "text": [
            "processor\t: 0\n",
            "vendor_id\t: GenuineIntel\n",
            "cpu family\t: 6\n",
            "model\t\t: 63\n",
            "model name\t: Intel(R) Xeon(R) CPU @ 2.30GHz\n",
            "stepping\t: 0\n",
            "microcode\t: 0xffffffff\n",
            "cpu MHz\t\t: 2299.998\n",
            "cache size\t: 46080 KB\n",
            "physical id\t: 0\n"
          ]
        }
      ],
      "source": [
        "!head /proc/cpuinfo"
      ]
    },
    {
      "cell_type": "code",
      "execution_count": null,
      "metadata": {
        "colab": {
          "base_uri": "https://localhost:8080/"
        },
        "id": "WPfngMnGgiIv",
        "outputId": "c8428c93-2051-4ec9-f68f-4dc57aa2c503"
      },
      "outputs": [
        {
          "name": "stdout",
          "output_type": "stream",
          "text": [
            "Sat Jun 22 20:10:37 2024       \n",
            "+---------------------------------------------------------------------------------------+\n",
            "| NVIDIA-SMI 535.104.05             Driver Version: 535.104.05   CUDA Version: 12.2     |\n",
            "|-----------------------------------------+----------------------+----------------------+\n",
            "| GPU  Name                 Persistence-M | Bus-Id        Disp.A | Volatile Uncorr. ECC |\n",
            "| Fan  Temp   Perf          Pwr:Usage/Cap |         Memory-Usage | GPU-Util  Compute M. |\n",
            "|                                         |                      |               MIG M. |\n",
            "|=========================================+======================+======================|\n",
            "|   0  Tesla T4                       Off | 00000000:00:04.0 Off |                    0 |\n",
            "| N/A   45C    P8               9W /  70W |      0MiB / 15360MiB |      0%      Default |\n",
            "|                                         |                      |                  N/A |\n",
            "+-----------------------------------------+----------------------+----------------------+\n",
            "                                                                                         \n",
            "+---------------------------------------------------------------------------------------+\n",
            "| Processes:                                                                            |\n",
            "|  GPU   GI   CI        PID   Type   Process name                            GPU Memory |\n",
            "|        ID   ID                                                             Usage      |\n",
            "|=======================================================================================|\n",
            "|  No running processes found                                                           |\n",
            "+---------------------------------------------------------------------------------------+\n"
          ]
        }
      ],
      "source": [
        "!nvidia-smi"
      ]
    },
    {
      "cell_type": "code",
      "execution_count": null,
      "metadata": {
        "colab": {
          "base_uri": "https://localhost:8080/"
        },
        "id": "Vjjy6m_9E2pP",
        "outputId": "6989811f-5928-44fb-b502-0c43f7a16622"
      },
      "outputs": [],
      "source": [
        "!pip3 install torch"
      ]
    },
    {
      "cell_type": "code",
      "execution_count": null,
      "metadata": {
        "colab": {
          "base_uri": "https://localhost:8080/"
        },
        "id": "iMiAI9GVO8BZ",
        "outputId": "c4e1c06a-2aab-4ae7-de5e-b0b6e38921b9"
      },
      "outputs": [],
      "source": [
        "!pip3 install torchvision"
      ]
    },
    {
      "cell_type": "code",
      "execution_count": 3,
      "metadata": {
        "id": "WBD4IvqVO8ih"
      },
      "outputs": [],
      "source": [
        "import matplotlib.pyplot as plt\n",
        "import torch\n",
        "import torch.nn as nn\n",
        "from torchvision import datasets\n",
        "from torch.utils.data import DataLoader\n",
        "import torch.optim as optim\n",
        "import torchvision\n",
        "import numpy as np\n",
        "from torchvision import transforms\n",
        "import os"
      ]
    },
    {
      "cell_type": "code",
      "execution_count": 4,
      "metadata": {
        "id": "dGuR2ulnPdkv"
      },
      "outputs": [],
      "source": [
        "USE_CUDA = torch.cuda.is_available()\n",
        "device = torch.device(\"cuda\" if USE_CUDA else \"cpu\")"
      ]
    },
    {
      "cell_type": "code",
      "execution_count": null,
      "metadata": {
        "colab": {
          "base_uri": "https://localhost:8080/"
        },
        "id": "FXN3cdpahaRq",
        "outputId": "ac485ab4-8663-4860-8da5-217e22b65d03"
      },
      "outputs": [],
      "source": [
        "DOWNLOAD_ROOT = os.path.join(os.pardir,\"MNIST_data\")\n",
        "\n",
        "train1_dataset= datasets.FashionMNIST(root=DOWNLOAD_ROOT,train=True,transform=transforms.Compose([transforms.Resize((227,227)),transforms.ToTensor()]),download=True)\n",
        "test1_dataset = datasets.FashionMNIST(root=DOWNLOAD_ROOT,train=False,transform=transforms.Compose([transforms.Resize((227,227)),transforms.ToTensor()]),download=True)"
      ]
    },
    {
      "cell_type": "code",
      "execution_count": null,
      "metadata": {
        "colab": {
          "base_uri": "https://localhost:8080/"
        },
        "id": "1JHbjpxHnjhl",
        "outputId": "b789363b-c4e4-442d-a4e5-a030c236a1fe"
      },
      "outputs": [],
      "source": [
        "print(\"train data 개수 :\",train1_dataset.data.shape[0])\n",
        "print(\"test data 개수 :\",test1_dataset.data.shape[0])"
      ]
    },
    {
      "cell_type": "code",
      "execution_count": 7,
      "metadata": {
        "id": "BoTvvLuarKke"
      },
      "outputs": [],
      "source": [
        "from sklearn.model_selection import train_test_split"
      ]
    },
    {
      "cell_type": "code",
      "execution_count": 8,
      "metadata": {
        "id": "elPqHW3G9Ch4"
      },
      "outputs": [],
      "source": [
        "train_dataset=train1_dataset\n",
        "test_dataset=test1_dataset"
      ]
    },
    {
      "cell_type": "code",
      "execution_count": 99,
      "metadata": {
        "id": "2H2_0jy6rURF"
      },
      "outputs": [],
      "source": [
        "split_ratio=0.1\n",
        "split_ratio2=0.15\n",
        "train_dataset,_=train_test_split(train1_dataset,test_size=1-split_ratio,random_state=7)\n",
        "test_dataset,_=train_test_split(test1_dataset,test_size=1-split_ratio,random_state=7)\n",
        "train_nosplit_dataset,_=train_test_split(train1_dataset,test_size=1-split_ratio2,random_state=7)\n",
        "test_nosplit_dataset,_=train_test_split(test1_dataset,test_size=1-split_ratio2,random_state=7)"
      ]
    },
    {
      "cell_type": "code",
      "execution_count": null,
      "metadata": {
        "colab": {
          "base_uri": "https://localhost:8080/"
        },
        "id": "Qe0U5NMlsUlJ",
        "outputId": "1c0919ac-1f8f-45da-fbe5-39255ef5bdd9"
      },
      "outputs": [],
      "source": [
        "print(\"train data 개수 :\",len(train_dataset))\n",
        "print(\"test data 개수 :\",len(test_dataset))\n",
        "print(\"nosplit train data 개수 :\",len(train_nosplit_dataset))\n",
        "print(\"nosplit test data 개수 :\",len(test_nosplit_dataset))"
      ]
    },
    {
      "cell_type": "code",
      "execution_count": 101,
      "metadata": {
        "id": "IldctqSQV7Lr"
      },
      "outputs": [],
      "source": [
        "class AlexNet(nn.Module):\n",
        "    def __init__(self):\n",
        "        super(AlexNet,self).__init__()\n",
        "        self.conv1=nn.Sequential(\n",
        "            nn.Conv2d(1,96,11,4,0),\n",
        "            nn.ReLU(),\n",
        "            nn.MaxPool2d(3, 2)\n",
        "        )\n",
        "        self.conv2=nn.Sequential(\n",
        "            nn.Conv2d(96, 256, 5, 1, 2),\n",
        "            nn.ReLU(),\n",
        "            nn.MaxPool2d(3, 2)\n",
        "        )\n",
        "        self.conv3=nn.Sequential(\n",
        "            nn.Conv2d(256, 384, 3, 1, 1),\n",
        "            nn.ReLU()\n",
        "        )\n",
        "        self.conv4 = nn.Sequential(\n",
        "            nn.Conv2d(384, 384, 3, 1, 1),\n",
        "            nn.ReLU()\n",
        "        )\n",
        "        self.conv5 = nn.Sequential(\n",
        "            nn.Conv2d(384, 256, 3, 1, 1),\n",
        "            nn.ReLU(),\n",
        "            nn.MaxPool2d(3, 2)\n",
        "        )\n",
        "        self.c1 = nn.Conv2d(1,96,11,4,0)\n",
        "        self.maxpool1 = nn.MaxPool2d(3,2)\n",
        "        self.c2 = nn.Conv2d(96,256,5,1,2)\n",
        "        self.maxpool2 = nn.MaxPool2d(3,2)\n",
        "        self.c3 = nn.Conv2d(256,384,3,1,1)\n",
        "        self.c4 = nn.Conv2d(384,384,3,1,1)\n",
        "        self.c5 = nn.Conv2d(384,256,3,1,1)\n",
        "        self.maxpool3 = nn.MaxPool2d(3,2)\n",
        "        self.n1 = nn.Linear(256*6*6,4096)\n",
        "        self.n2 = nn.Linear(4096,4096)\n",
        "        self.n3 = nn.Linear(4096,10)\n",
        "        self.relu=nn.ReLU()\n",
        "        self.dropout=nn.Dropout(0.5)\n",
        "        self.softmax=nn.LogSoftmax(dim=1)\n",
        "\n",
        "    def forward(self,x):\n",
        "        x = self.conv1(x)\n",
        "        x = self.conv2(x)\n",
        "        x = self.conv3(x)\n",
        "        x = self.conv4(x)\n",
        "        x = self.conv5(x)\n",
        "        x = x.view(x.size(0), -1)\n",
        "        x = self.n1(x)\n",
        "        x = self.relu(x)\n",
        "        x = self.dropout(x)\n",
        "        x = self.n2(x)\n",
        "        x = self.relu(x)\n",
        "        x = self.dropout(x)\n",
        "        x = self.n3(x)\n",
        "        x = self.softmax(x)\n",
        "        return x"
      ]
    },
    {
      "cell_type": "code",
      "execution_count": 76,
      "metadata": {
        "id": "BH6YmPz6V5SL"
      },
      "outputs": [],
      "source": [
        "#default\n",
        "LOAD = True\n",
        "SEED=7\n",
        "torch.manual_seed(SEED)\n",
        "if device=='cuda':\n",
        "  torch.cuda.manual_seed_all(SEED)\n",
        "BATCH_SIZE = 128\n",
        "EPOCHS = 20\n",
        "LEARNING_RATE = 0.1\n",
        "loss_function = nn.CrossEntropyLoss()\n",
        "model = AlexNet()\n",
        "model.zero_grad()\n",
        "optimizer = optim.SGD(model.parameters(),lr=LEARNING_RATE)\n",
        "\n",
        "\n",
        "loss_list = []\n",
        "accuracy_list = []\n",
        "epoch = 0"
      ]
    },
    {
      "cell_type": "code",
      "execution_count": 106,
      "metadata": {
        "id": "pvrMONUJvvwU"
      },
      "outputs": [],
      "source": [
        "train_dataset_loader = DataLoader(train_dataset, batch_size=BATCH_SIZE, shuffle=True,drop_last=True)\n",
        "test_dataset_loader = DataLoader(test_dataset, batch_size=BATCH_SIZE, shuffle=True,drop_last=True)\n",
        "train_nosplit_dataset_loader = DataLoader(train_nosplit_dataset, batch_size=BATCH_SIZE, shuffle=True,drop_last=True)\n",
        "test_nosplit_dataset_loader = DataLoader(test_nosplit_dataset, batch_size=BATCH_SIZE, shuffle=True,drop_last=True)"
      ]
    },
    {
      "cell_type": "code",
      "execution_count": 78,
      "metadata": {
        "colab": {
          "base_uri": "https://localhost:8080/"
        },
        "id": "1O1edZJfvzBI",
        "outputId": "2a6b7bdb-5ed9-4bad-e611-1b7e761b4cb0"
      },
      "outputs": [
        {
          "name": "stdout",
          "output_type": "stream",
          "text": [
            "46\n"
          ]
        }
      ],
      "source": [
        "TOTAL_BATCH = len(train_dataset_loader)\n",
        "print(TOTAL_BATCH)"
      ]
    },
    {
      "cell_type": "code",
      "execution_count": 79,
      "metadata": {
        "id": "FvCH-OPJ1G01"
      },
      "outputs": [],
      "source": [
        "PATH = os.path.join('/content',\"pretrained_model.pt\")\n",
        "SAVE_INTERVAL = 5"
      ]
    },
    {
      "cell_type": "code",
      "execution_count": null,
      "metadata": {
        "colab": {
          "base_uri": "https://localhost:8080/"
        },
        "id": "EK_FV-RAXRx_",
        "outputId": "a49feebf-cbe4-491e-e9e0-deeccc3baf0e"
      },
      "outputs": [],
      "source": [
        "while epoch < EPOCHS:\n",
        "    cost = 0\n",
        "    for image, label in train_dataset_loader:\n",
        "        optimizer.zero_grad()\n",
        "        predicted = model.forward(image)\n",
        "        loss = loss_function(predicted,label)\n",
        "        loss.backward()\n",
        "        optimizer.step()\n",
        "        cost+=loss\n",
        "    with torch.no_grad():\n",
        "        total = 0\n",
        "        correct = 0\n",
        "        for image, label in test_dataset_loader:\n",
        "            out = model(image)\n",
        "            _,predict = torch.max(out.data, 1)\n",
        "            total += label.size(0)\n",
        "            correct += (predict==label).sum()\n",
        "    average_cost = cost/TOTAL_BATCH\n",
        "    accuracy = 100*correct/total\n",
        "    loss_list.append(average_cost.detach().numpy())\n",
        "    accuracy_list.append(accuracy)\n",
        "    epoch+=1\n",
        "    print(\"epoch : {} | loss : {:.6f}\" .format(epoch, average_cost))\n",
        "    print(\"Accuracy : {:.2f}\".format(accuracy))\n",
        "    print(\"---------------------\")\n",
        "    if epoch%5 ==0:\n",
        "        torch.save({\"epoch\":epoch,\"loss list\":loss_list,\"accuracy list\":accuracy_list,\"model\":model.state_dict(),\"optimizer\":optimizer.state_dict()},PATH)"
      ]
    },
    {
      "cell_type": "code",
      "execution_count": 87,
      "metadata": {
        "id": "P62vPeXSD6bG"
      },
      "outputs": [],
      "source": [
        "#learning late 0.01\n",
        "PATH = os.path.join('/content',\"pretrained_model2.pt\")\n",
        "LOAD = True\n",
        "BATCH_SIZE = 128\n",
        "EPOCHS = 20\n",
        "LEARNING_RATE = 0.01\n",
        "loss_function = nn.CrossEntropyLoss()\n",
        "model = AlexNet()\n",
        "model.zero_grad()\n",
        "optimizer = optim.SGD(model.parameters(),lr=LEARNING_RATE)\n",
        "\n",
        "\n",
        "loss_list2 = []\n",
        "accuracy_list2 = []\n",
        "epoch = 0"
      ]
    },
    {
      "cell_type": "code",
      "execution_count": null,
      "metadata": {
        "colab": {
          "base_uri": "https://localhost:8080/"
        },
        "id": "1WGPe-4bDjlQ",
        "outputId": "2bbb93ff-1523-4771-ad8b-5a77d518246f"
      },
      "outputs": [],
      "source": [
        "while epoch < EPOCHS:\n",
        "    cost = 0\n",
        "    for image, label in train_dataset_loader:\n",
        "        optimizer.zero_grad()\n",
        "        predicted = model.forward(image)\n",
        "        loss = loss_function(predicted,label)\n",
        "        loss.backward()\n",
        "        optimizer.step()\n",
        "        cost+=loss\n",
        "    with torch.no_grad():\n",
        "        total = 0\n",
        "        correct = 0\n",
        "        for image, label in test_dataset_loader:\n",
        "            out = model(image)\n",
        "            _,predict = torch.max(out.data, 1)\n",
        "            total += label.size(0)\n",
        "            correct += (predict==label).sum()\n",
        "    average_cost = cost/TOTAL_BATCH\n",
        "    accuracy = 100*correct/total\n",
        "    loss_list2.append(average_cost.detach().numpy())\n",
        "    accuracy_list2.append(accuracy)\n",
        "    epoch+=1\n",
        "    print(\"epoch : {} | loss : {:.6f}\" .format(epoch, average_cost))\n",
        "    print(\"Accuracy : {:.2f}\".format(accuracy))\n",
        "    print(\"---------------------\")\n",
        "    if epoch%5 ==0:\n",
        "        torch.save({\"epoch\":epoch,\"loss list\":loss_list2,\"accuracy list\":accuracy_list2,\"model\":model.state_dict(),\"optimizer\":optimizer.state_dict()},PATH)"
      ]
    },
    {
      "cell_type": "code",
      "execution_count": 107,
      "metadata": {
        "id": "Cp2pXdq6kcJ4"
      },
      "outputs": [],
      "source": [
        "#dataset 10500\n",
        "PATH = os.path.join('/content',\"pretrained_model3.pt\")\n",
        "LOAD = True\n",
        "BATCH_SIZE = 128\n",
        "EPOCHS = 20\n",
        "LEARNING_RATE = 0.1\n",
        "loss_function = nn.CrossEntropyLoss()\n",
        "model = AlexNet()\n",
        "model.zero_grad()\n",
        "optimizer = optim.SGD(model.parameters(),lr=LEARNING_RATE)\n",
        "\n",
        "\n",
        "loss_list3 = []\n",
        "accuracy_list3 = []\n",
        "epoch = 0"
      ]
    },
    {
      "cell_type": "code",
      "execution_count": null,
      "metadata": {
        "colab": {
          "base_uri": "https://localhost:8080/"
        },
        "id": "Neimey5Pk-zY",
        "outputId": "c16ee26d-558e-42c0-b504-b1001db37619"
      },
      "outputs": [],
      "source": [
        "while epoch < EPOCHS:\n",
        "    cost = 0\n",
        "    for image, label in train_nosplit_dataset_loader:\n",
        "        optimizer.zero_grad()\n",
        "        predicted = model.forward(image)\n",
        "        loss = loss_function(predicted,label)\n",
        "        loss.backward()\n",
        "        optimizer.step()\n",
        "        cost+=loss\n",
        "    with torch.no_grad():\n",
        "        total = 0\n",
        "        correct = 0\n",
        "        for image, label in test_nosplit_dataset_loader:\n",
        "            out = model(image)\n",
        "            _,predict = torch.max(out.data, 1)\n",
        "            total += label.size(0)\n",
        "            correct += (predict==label).sum()\n",
        "    average_cost = cost/TOTAL_BATCH\n",
        "    accuracy = 100*correct/total\n",
        "    loss_list3.append(average_cost.detach().numpy())\n",
        "    accuracy_list3.append(accuracy)\n",
        "    epoch+=1\n",
        "    print(\"epoch : {} | loss : {:.6f}\" .format(epoch, average_cost))\n",
        "    print(\"Accuracy : {:.2f}\".format(accuracy))\n",
        "    print(\"---------------------\")\n",
        "    if epoch%5 ==0:\n",
        "        torch.save({\"epoch\":epoch,\"loss list\":loss_list3,\"accuracy list\":accuracy_list3,\"model\":model.state_dict(),\"optimizer\":optimizer.state_dict()},PATH)"
      ]
    },
    {
      "cell_type": "code",
      "execution_count": 111,
      "metadata": {
        "id": "Rbktq1Oot4g1"
      },
      "outputs": [],
      "source": [
        "if LOAD:\n",
        "    check = torch.load(PATH)\n",
        "    model.load_state_dict(check[\"model\"])\n",
        "    epoch = check[\"epoch\"]\n",
        "    accuracy_list = check[\"accuracy list\"]\n",
        "    loss_list = check[\"loss list\"]\n",
        "    optimizer.load_state_dict(check[\"optimizer\"])"
      ]
    },
    {
      "cell_type": "code",
      "execution_count": null,
      "metadata": {
        "colab": {
          "base_uri": "https://localhost:8080/",
          "height": 458
        },
        "id": "fjljC753Yawy",
        "outputId": "5f1d57b0-7f89-446e-9b86-e9d22a06fe73"
      },
      "outputs": [],
      "source": [
        "plt.figure(figsize=(10,5))\n",
        "plt.subplot(1,2,1)\n",
        "plt.xlabel('Epoch')\n",
        "plt.ylabel('Loss')\n",
        "plt.plot(np.arange(0,EPOCHS),loss_list)\n",
        "#plt.plot(np.arange(0,EPOCHS),loss_list2)\n",
        "plt.plot(np.arange(0,EPOCHS),loss_list3)\n",
        "#plt.plot(np.arange(0,EPOCHS),loss_list4)\n",
        "plt.legend(['7000','10500'])\n",
        "plt.subplot(1,2,2)\n",
        "plt.xlabel('Epoch')\n",
        "plt.ylabel('Accuracy')\n",
        "plt.plot(np.arange(0,EPOCHS), accuracy_list)\n",
        "#plt.plot(np.arange(0,EPOCHS), accuracy_list2)\n",
        "plt.plot(np.arange(0,EPOCHS), accuracy_list3)\n",
        "#plt.plot(np.arange(0,EPOCHS), accuracy_list4)\n",
        "plt.legend(['7000','10500'])\n",
        "plt.show()"
      ]
    },
    {
      "cell_type": "code",
      "execution_count": null,
      "metadata": {
        "colab": {
          "base_uri": "https://localhost:8080/",
          "height": 402
        },
        "id": "VneJ8xUuYeAv",
        "outputId": "c783a96c-fb71-4bca-a5e1-2666e49903ee"
      },
      "outputs": [],
      "source": [
        "figure = plt.figure(figsize=(10,5))\n",
        "cols, rows = 5, 2\n",
        "for i in range(1, cols * rows + 1):\n",
        "    sample_idx = torch.randint(len(test_dataset), size=(1,)).item()\n",
        "    img, label = test_dataset[sample_idx]\n",
        "    figure.add_subplot(rows, cols, i)\n",
        "    img = torch.unsqueeze(img,0)\n",
        "    out = model(img)\n",
        "    _,predict = torch.max(out.data, 1)\n",
        "    plt.title(\"label: {} actual: {}\".format(label,predict.item()))\n",
        "    plt.axis(\"off\")\n",
        "    plt.imshow(img.squeeze(), cmap=\"gray\")\n",
        "    plt.savefig('output.png',facecolor = 'w')\n",
        "plt.show()"
      ]
    }
  ],
  "metadata": {
    "accelerator": "GPU",
    "colab": {
      "gpuType": "T4",
      "machine_shape": "hm",
      "provenance": []
    },
    "kernelspec": {
      "display_name": "Python 3",
      "name": "python3"
    },
    "language_info": {
      "name": "python"
    }
  },
  "nbformat": 4,
  "nbformat_minor": 0
}
